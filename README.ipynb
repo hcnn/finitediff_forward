{
 "cells": [
  {
   "cell_type": "raw",
   "metadata": {},
   "source": [
    "---\n",
    "title: \"finitediff_forward\"\n",
    "date: 2018-08-20T19:00:00+02:00\n",
    "draft: false\n",
    "tags: [finitediff_forward]\n",
    "---"
   ]
  },
  {
   "cell_type": "markdown",
   "metadata": {},
   "source": [
    "### Notation\n",
    "\n",
    "| symbol | set | code | description |\n",
    "|:------:|:---:|:----:|:------------|\n",
    "| $f$    | $\\mathbb{R}$ | `myfunc` | the function |\n",
    "| $\\mathbf{X}$ | $\\mathbb{R}^n$ | `X` | vector with variables |\n",
    "| $x_i$ | $\\mathbb{R}$ | `x[i]` | the $i$-th variable  |\n",
    "| $h$ | $\\{h \\in \\mathbb{R} \\| h>0 \\}$ | `h` | increment parameter (step size, band width) |\n",
    "| $\\frac{\\partial f(\\mathbf{X})}{\\partial x_i}$ | $\\mathbb{R}$ | `g[i]` | partial derivative for the $i$-th variable |\n",
    "| $\\nabla f$ | $\\mathbb{R}^n$ | `g` | gradient vector |\n"
   ]
  },
  {
   "cell_type": "markdown",
   "metadata": {},
   "source": [
    "### Partial Derivatives\n",
    "Be $\\mathbf{X} = (x_i) \\in \\mathbb{R}^n$ the **variables**, \n",
    "$f: \\mathbb{R}^n \\rightarrow \\mathbb{R}$ a (single output) **function**,\n",
    "$h \\in \\{h \\in \\mathbb{R} | h>0 \\}$ the **increment** parameter,\n",
    "$\\mathbf{1} = (1_i) \\in \\{0,1\\}^n$ a vector of zeros except the $i$-th entry that equals 1.\n",
    "The **partial derivative** (or limit) of function $f$ with respect to the $i$-th variable $x_i$ is\n",
    "\n",
    "$$\n",
    "\\frac{\\partial f(\\mathbf{X})}{\\partial x_i} := \\lim_{h \\rightarrow 0} \\frac{f(\\mathbf{X} + h \\cdot 1_i) - f(\\mathbf{X})}{h} \\qquad \\forall i\n",
    "$$"
   ]
  },
  {
   "cell_type": "markdown",
   "metadata": {},
   "source": [
    "### Gradient Vector\n",
    "Be $\\nabla f \\in \\mathbb{R}^n$ the **gradient** of $f$ at $x$. \n",
    "It is the vector all partial derivatives.\n",
    "\n",
    "$$\n",
    "\\nabla f := \\left(\\frac{\\partial f(\\mathbf{X})}{\\partial x_1}, ..., \\frac{\\partial f(\\mathbf{X})}{\\partial x_n} \\right)\n",
    "$$"
   ]
  },
  {
   "cell_type": "markdown",
   "metadata": {},
   "source": [
    "### Finite Difference Approximation\n",
    "The finite difference approximation method uses a finite small value for the increment parameter, e.g. $h=10^{-8}$, instead of the theoretical *infinitesimal* $\\lim_{h \\rightarrow 0}$. \n",
    "In other words, a finite small value $h$ instead of an infinite small $h$.\n",
    "On a computer, $h$ depends on the numeric precision to avoid cancellation.\n",
    "\n",
    "The **forward difference approximation** (Euler method, or secant method) uses the quotient mentioned before\n",
    "\n",
    "$$\n",
    "\\frac{\\partial f(\\mathbf{X})}{\\partial x_i} \n",
    "\\approx g^f_i \n",
    "= \\frac{f(\\mathbf{X} + h \\cdot 1_i) - f(\\mathbf{X})}{h}\n",
    "$$\n",
    "\n",
    "It is important to note that \n",
    "\n",
    "* the forward approximation is always $g^f_i < \\frac{\\partial f(\\mathbf{X})}{\\partial x_i}$ (or bigger) at convex curvatures (or concave curvatures). Similar behavior with backward approximation.\n",
    "* the forward and backward method will never lie at point $\\mathbf{X}$"
   ]
  },
  {
   "cell_type": "markdown",
   "metadata": {},
   "source": [
    "### C Implementation\n",
    "The `x` array is temporarily manipulated in `finitediff_forward`. \n",
    "In each iteration the `x[i]` value is backed up as `tmp` before adding the bandwith `h`.\n",
    "At the end `tmp` is reassigned to `x[i]`.\n",
    "The number of function evaluations is `n+1`."
   ]
  },
  {
   "cell_type": "code",
   "execution_count": 1,
   "metadata": {
    "ExecuteTime": {
     "end_time": "2018-08-21T07:38:05.218367Z",
     "start_time": "2018-08-21T07:38:05.078401Z"
    }
   },
   "outputs": [
    {
     "name": "stdout",
     "output_type": "stream",
     "text": [
      "x: -0.6000 | g(x): -0.0922 \n",
      "x: -0.5000 | g(x): -0.0768 \n",
      "x: -0.4000 | g(x): -0.0615 \n",
      "x: -0.3000 | g(x): -0.0461 \n",
      "x: -0.2000 | g(x): -0.0307 \n",
      "x: -0.1000 | g(x): -0.0153 \n",
      "x:  0.0000 | g(x):  0.0001 \n",
      "x:  0.1000 | g(x):  0.0155 \n",
      "x:  0.2000 | g(x):  0.0308 \n",
      "x:  0.3000 | g(x):  0.0462 \n",
      "x:  0.4000 | g(x):  0.0616 \n",
      "x:  0.5000 | g(x):  0.0770 \n",
      "x:  0.6000 | g(x):  0.0924 \n"
     ]
    }
   ],
   "source": [
    "#include <stdio.h>  \n",
    "\n",
    "/**************************************************\n",
    " ************* finitediff_forward.h ***************\n",
    " **************************************************/\n",
    "void finitediff_forward(double (*f)(double*, int), \n",
    "                        double *x, \n",
    "                        int n, \n",
    "                        double h, \n",
    "                        double *g){\n",
    "    double tmp;\n",
    "    double f0 = f(x,n);\n",
    "    for (int i=0; i<n; i++){\n",
    "        tmp = x[i]; //store temporarly\n",
    "        x[i] += h;  //add bandwidth param\n",
    "        g[i] = (f(x,n) - f0) / h;\n",
    "        x[i] = tmp; //reassign orginal value\n",
    "    }\n",
    "} \n",
    "\n",
    "/**************************************************\n",
    " **************** EXAMPLE SCRIPT ******************\n",
    " **************************************************/\n",
    "double myfunc(double *x, int n){\n",
    "    double f = 0.0;\n",
    "    for(int i=0; i<n; i++){\n",
    "        f += x[i] * x[i];\n",
    "    }\n",
    "    f /= (double)n;\n",
    "    return f;\n",
    "}\n",
    "\n",
    "int main(){\n",
    "    double (*evalfunc)(double*, int) = &myfunc;\n",
    "    double x[]={-.6, -.5, -.4, -.3, -.2, -.1, \n",
    "                0.0, .1 , .2, .3, .4, .5, .6};\n",
    "    int n = 13;\n",
    "    double g[n];\n",
    "    double h = 0.001;\n",
    "    \n",
    "    finitediff_forward(evalfunc, x, n, h, g);\n",
    "    \n",
    "    for(int i=0; i<n; i++){\n",
    "        printf(\"x: %7.4f | g(x): %7.4f \\n\", x[i], g[i] );\n",
    "    }\n",
    "    \n",
    "    return 0;\n",
    "}\n"
   ]
  }
 ],
 "metadata": {
  "kernelspec": {
   "display_name": "C",
   "language": "c",
   "name": "c"
  },
  "language_info": {
   "file_extension": ".c",
   "mimetype": "text/plain",
   "name": "c"
  },
  "varInspector": {
   "cols": {
    "lenName": 16,
    "lenType": 16,
    "lenVar": 40
   },
   "kernels_config": {
    "python": {
     "delete_cmd_postfix": "",
     "delete_cmd_prefix": "del ",
     "library": "var_list.py",
     "varRefreshCmd": "print(var_dic_list())"
    },
    "r": {
     "delete_cmd_postfix": ") ",
     "delete_cmd_prefix": "rm(",
     "library": "var_list.r",
     "varRefreshCmd": "cat(var_dic_list()) "
    }
   },
   "types_to_exclude": [
    "module",
    "function",
    "builtin_function_or_method",
    "instance",
    "_Feature"
   ],
   "window_display": false
  }
 },
 "nbformat": 4,
 "nbformat_minor": 2
}
